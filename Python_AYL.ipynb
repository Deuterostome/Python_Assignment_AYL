{
 "cells": [
  {
   "cell_type": "code",
   "execution_count": 22,
   "metadata": {
    "collapsed": true
   },
   "outputs": [],
   "source": [
    "import os"
   ]
  },
  {
   "cell_type": "code",
   "execution_count": 23,
   "metadata": {},
   "outputs": [
    {
     "data": {
      "text/plain": [
       "'C:\\\\Users\\\\ANG\\\\Desktop\\\\EEOB_546X\\\\BCB546X-Fall2017\\\\Python_Assignment'"
      ]
     },
     "execution_count": 23,
     "metadata": {},
     "output_type": "execute_result"
    }
   ],
   "source": [
    "os.getcwd() # Get the working directory"
   ]
  },
  {
   "cell_type": "code",
   "execution_count": 24,
   "metadata": {
    "collapsed": true
   },
   "outputs": [],
   "source": [
    "os.chdir('C:\\\\Users\\\\ANG\\\\Desktop\\\\EEOB_546X\\\\BCB546X-Fall2017\\\\Python_Assignment') \n",
    "# Re-direct the working directory to Python_Assignment"
   ]
  },
  {
   "cell_type": "code",
   "execution_count": 25,
   "metadata": {
    "collapsed": true
   },
   "outputs": [],
   "source": [
    "# SeqIO: the standard Sequence Input/Output interface for BioPython 1.43 and later.\n",
    "from Bio import SeqIO\n",
    "# To get the codon translation table\n",
    "from Bio.Data import CodonTable\n",
    "# Python Data Analysis Library\n",
    "import pandas as pd"
   ]
  },
  {
   "cell_type": "code",
   "execution_count": 26,
   "metadata": {
    "collapsed": true
   },
   "outputs": [],
   "source": [
    "## Creat a function \"get_sequences_from_file()\" to extract species name and sequence from the fasta file\n",
    "# Define the function \"get_sequences_from_file(fasta_fn)\"\n",
    "def get_sequences_from_file(fasta_fn):\n",
    "    # Define an empty dictionary \"sequence_data_dict\"\n",
    "    sequence_data_dict = {}\n",
    "    # Define record as the content in file fasta_fn(file type = fasta, opened under SeqIQ.parse)\n",
    "    for record in SeqIO.parse(fasta_fn, \"fasta\"):\n",
    "        #Grabbing the description part from fasta_fn\n",
    "        description = record.description.split()\n",
    "        # Define species_name\n",
    "        species_name = description[1] + \" \" + description[2]\n",
    "        # Define the key as \"species_name\" and the value as the corresponding sequencing\n",
    "        sequence_data_dict[species_name] = record.seq\n",
    "    # print out \"sequence_data_dict\"\n",
    "    return(sequence_data_dict)"
   ]
  },
  {
   "cell_type": "code",
   "execution_count": 27,
   "metadata": {
    "collapsed": true
   },
   "outputs": [],
   "source": [
    "## Translate DNA into protein sequence, https://stackoverflow.com/questions/19521905/translation-dna-to-protein\n",
    "def translate_dna(sequence): # Define the function \"translate_dna(sequence)\"\n",
    "    mito_table = CodonTable.unambiguous_dna_by_name[\"Vertebrate Mitochondrial\"] # Vertebrate Mitochondrial codon for translation\n",
    "    proteinsequence = \"\" #Set up \"proteinsequence\" for the upcoming translation\n",
    "    stop = sequence.find('TAA')|sequence.find('TAG')|sequence.find('AGA')|sequence.find('AGG') #Setting up the stop condons\n",
    "    # Defining the DNA coding of \"sequence\", from the first element to the stop codons, for translation\n",
    "    cds = str(sequence[:int(stop)])\n",
    "    \n",
    "    for n in range(0,len(cds),3): # Read the codons for translation\n",
    "        if cds[n:n+3] in mito_table.forward_table: # Fit the codons to the mitochondrial tables\n",
    "            proteinsequence += mito_table.forward_table[cds[n:n+3]] # Start translation\n",
    "    # Return protein sequence\n",
    "    return(proteinsequence)"
   ]
  },
  {
   "cell_type": "code",
   "execution_count": 28,
   "metadata": {},
   "outputs": [
    {
     "data": {
      "text/plain": [
       "Seq('MAIVMGRWKGAR*', HasStopCodon(IUPACProtein(), '*'))"
      ]
     },
     "execution_count": 28,
     "metadata": {},
     "output_type": "execute_result"
    }
   ],
   "source": [
    "## Call out the existing function in Biopython to do the translation work, http://biopython.org/DIST/docs/api/Bio-module.html\n",
    "from Bio.Seq import Seq #From the package \"Bio.Seq\" import the module \"Seq\"\n",
    "from Bio.Alphabet import IUPAC # From the package \"Bio.Alphabet\" import the module \"IUPAC\"\n",
    "DNA = Seq(\"ATGGCCATTGTAATGGGCCGCTGAAAGGGTGCCCGATAG\", IUPAC.unambiguous_dna) #Input DNA sequence with the unambiguity of the genetic code\n",
    "DNA.translate(table=\"Vertebrate Mitochondrial\") # Translate the DNA sequence with Vertebrate Mitochondrial codon table"
   ]
  },
  {
   "cell_type": "code",
   "execution_count": 29,
   "metadata": {
    "collapsed": true
   },
   "outputs": [],
   "source": [
    "## Call out the function in Biopython for comupting molecular weight of protein, http://biopython.org/DIST/docs/api/Bio-module.html\n",
    "from Bio.SeqUtils.ProtParam import ProteinAnalysis # From the package \"Bio.SeqUtils\" import the mode \"ProteinAnalysis\"\n",
    "def compute_molecular_weight(aa_seq): #Set up the function \"compute_mplecular_weight(aa_seq)\"\n",
    "    X = ProteinAnalysis(aa_seq) #Process the aa_seq with the mode \"ProteinAnalysis \"\n",
    "    return(X.molecular_weight()) #Return the molecular weight of the protein sequence"
   ]
  },
  {
   "cell_type": "code",
   "execution_count": 30,
   "metadata": {},
   "outputs": [
    {
     "data": {
      "text/plain": [
       "1040.1907000000003"
      ]
     },
     "execution_count": 30,
     "metadata": {},
     "output_type": "execute_result"
    }
   ],
   "source": [
    "# Test the molecular weight function\n",
    "compute_molecular_weight(\"MSKGAELFTG\")"
   ]
  },
  {
   "cell_type": "code",
   "execution_count": 31,
   "metadata": {
    "collapsed": true
   },
   "outputs": [],
   "source": [
    "## Write a function to compute GC content, https://eeob-biodata.github.io/2017-python-programming/01-intro/\n",
    "def GC_content(Seq): # Defin the function \"GC_content(Seq)\"\n",
    "    count = 0 # Counting of G/C, starting from zero\n",
    "    for base in Seq: # For every single base in DNA sequence\n",
    "        if base == \"G\" or base == \"C\": # If the single base is equal to either G or C\n",
    "            count += 1 # Counting of G/C will have one point\n",
    "            Length = len(Seq) # Total length of the input sequence\n",
    "            ratio = count/Length # Calculate the GC ratio\n",
    "    return (ratio) #Return the result of GC content"
   ]
  },
  {
   "cell_type": "code",
   "execution_count": 32,
   "metadata": {},
   "outputs": [
    {
     "data": {
      "text/plain": [
       "0.5641025641025641"
      ]
     },
     "execution_count": 32,
     "metadata": {},
     "output_type": "execute_result"
    }
   ],
   "source": [
    "# Test the GC content function\n",
    "GC_content(\"ATGGCCATTGTAATGGGCCGCTGAAAGGGTGCCCGATAG\")"
   ]
  },
  {
   "cell_type": "code",
   "execution_count": 33,
   "metadata": {
    "collapsed": true
   },
   "outputs": [],
   "source": [
    "## Read the row file to get the DNA sequence and table\n",
    "# Call the function \"get_sequences_from _file\" to extract the sequence from the fasta file \"penguins_cytb.fasta\"\n",
    "cytb_seqs = get_sequences_from_file(\"penguins_cytb.fasta\")\n",
    "# set up the table names \"penguins_df\" with the content coming from the file \"penguins_mass.csv\"\n",
    "penguins_df = pd.read_csv(\"penguins_mass.csv\") \n",
    "# Set up the list \"species_list\" from the column \"species\" in the table \"penguins_df\"\n",
    "species_list = list(penguins_df.species)"
   ]
  },
  {
   "cell_type": "code",
   "execution_count": 34,
   "metadata": {},
   "outputs": [
    {
     "data": {
      "text/html": [
       "<div>\n",
       "<style>\n",
       "    .dataframe thead tr:only-child th {\n",
       "        text-align: right;\n",
       "    }\n",
       "\n",
       "    .dataframe thead th {\n",
       "        text-align: left;\n",
       "    }\n",
       "\n",
       "    .dataframe tbody tr th {\n",
       "        vertical-align: top;\n",
       "    }\n",
       "</style>\n",
       "<table border=\"1\" class=\"dataframe\">\n",
       "  <thead>\n",
       "    <tr style=\"text-align: right;\">\n",
       "      <th></th>\n",
       "      <th>species</th>\n",
       "      <th>mass</th>\n",
       "    </tr>\n",
       "  </thead>\n",
       "  <tbody>\n",
       "    <tr>\n",
       "      <th>0</th>\n",
       "      <td>Aptenodytes forsteri</td>\n",
       "      <td>28.00</td>\n",
       "    </tr>\n",
       "    <tr>\n",
       "      <th>1</th>\n",
       "      <td>Aptenodytes patagonicus</td>\n",
       "      <td>13.40</td>\n",
       "    </tr>\n",
       "    <tr>\n",
       "      <th>2</th>\n",
       "      <td>Eudyptes chrysocome</td>\n",
       "      <td>2.80</td>\n",
       "    </tr>\n",
       "    <tr>\n",
       "      <th>3</th>\n",
       "      <td>Eudyptes chrysolophus</td>\n",
       "      <td>4.50</td>\n",
       "    </tr>\n",
       "    <tr>\n",
       "      <th>4</th>\n",
       "      <td>Eudyptes sclateri</td>\n",
       "      <td>4.25</td>\n",
       "    </tr>\n",
       "    <tr>\n",
       "      <th>5</th>\n",
       "      <td>Eudyptula minor</td>\n",
       "      <td>1.60</td>\n",
       "    </tr>\n",
       "    <tr>\n",
       "      <th>6</th>\n",
       "      <td>Pygoscelis adeliae</td>\n",
       "      <td>4.60</td>\n",
       "    </tr>\n",
       "    <tr>\n",
       "      <th>7</th>\n",
       "      <td>Pygoscelis antarctica</td>\n",
       "      <td>4.10</td>\n",
       "    </tr>\n",
       "    <tr>\n",
       "      <th>8</th>\n",
       "      <td>Pygoscelis papua</td>\n",
       "      <td>6.10</td>\n",
       "    </tr>\n",
       "    <tr>\n",
       "      <th>9</th>\n",
       "      <td>Spheniscus demersus</td>\n",
       "      <td>3.20</td>\n",
       "    </tr>\n",
       "    <tr>\n",
       "      <th>10</th>\n",
       "      <td>Spheniscus humboldti</td>\n",
       "      <td>4.75</td>\n",
       "    </tr>\n",
       "    <tr>\n",
       "      <th>11</th>\n",
       "      <td>Spheniscus magellanicus</td>\n",
       "      <td>3.40</td>\n",
       "    </tr>\n",
       "  </tbody>\n",
       "</table>\n",
       "</div>"
      ],
      "text/plain": [
       "                    species   mass\n",
       "0      Aptenodytes forsteri  28.00\n",
       "1   Aptenodytes patagonicus  13.40\n",
       "2       Eudyptes chrysocome   2.80\n",
       "3     Eudyptes chrysolophus   4.50\n",
       "4         Eudyptes sclateri   4.25\n",
       "5           Eudyptula minor   1.60\n",
       "6        Pygoscelis adeliae   4.60\n",
       "7     Pygoscelis antarctica   4.10\n",
       "8          Pygoscelis papua   6.10\n",
       "9       Spheniscus demersus   3.20\n",
       "10     Spheniscus humboldti   4.75\n",
       "11  Spheniscus magellanicus   3.40"
      ]
     },
     "execution_count": 34,
     "metadata": {},
     "output_type": "execute_result"
    }
   ],
   "source": [
    "penguins_df # Call out the data frame from \"penguins_mass.csv\""
   ]
  },
  {
   "cell_type": "code",
   "execution_count": 35,
   "metadata": {},
   "outputs": [
    {
     "data": {
      "text/plain": [
       "{'Aptenodytes forsteri': Seq('ATGGCCCCAAATCTCCGAAAATCCCATCCCCTCCTAAAAATAATTAATAACTCC...TAA', SingleLetterAlphabet()),\n",
       " 'Aptenodytes patagonicus': Seq('ATGGCCCCAAACCTCCGAAAATCCCATCCTCTCCTAAAAATAATTAATAACTCC...TAA', SingleLetterAlphabet()),\n",
       " 'Eudyptes chrysocome': Seq('ATGGCCCCCAACCTCCGAAAATCCCACCCCCTCCTAAAAACAATCAATAACTCC...TAA', SingleLetterAlphabet()),\n",
       " 'Eudyptes chrysolophus': Seq('ATGGCCCCCAACCTCCGAAAATCCCACCCCCTCCTAAAAACAATCAATAACTCC...TAA', SingleLetterAlphabet()),\n",
       " 'Eudyptes sclateri': Seq('ATGGCCCCCAACCTCCGAAAATCCCACCCCCTCCTAAAAACAATCAATAACTCC...TAA', SingleLetterAlphabet()),\n",
       " 'Eudyptula minor': Seq('ATGGCCCCCAACCTCCGAAAATCTCACCCCCTCCTAAAAATAATCAACAACTCT...TAA', SingleLetterAlphabet()),\n",
       " 'Pygoscelis adeliae': Seq('ATGGCCCCCAACCTCCGAAAATCCCACCCTCTCCTAAAAATAATTAACAACTCC...TAA', SingleLetterAlphabet()),\n",
       " 'Pygoscelis antarctica': Seq('ATGGCCCCCAACCTCCGAAAATCCCACCCTCTCCTAAAAATAATCAACAACTCC...TAG', SingleLetterAlphabet()),\n",
       " 'Pygoscelis papua': Seq('ATGGCCCCCAACCTTCGAAAATCCCACCCTCTCCTAAAAATAATCAACAAATCC...TAG', SingleLetterAlphabet()),\n",
       " 'Spheniscus demersus': Seq('ATGGCCCCCAACCTCCGAAAATCCCACCCTCTCCTAAAAACAATCAACAACTCC...TAA', SingleLetterAlphabet()),\n",
       " 'Spheniscus humboldti': Seq('ATGGCCCCCAACCTCCGAAAATCCCACCCTCTCCTAAAAACAATCAACAACTCC...TAA', SingleLetterAlphabet()),\n",
       " 'Spheniscus magellanicus': Seq('ATGGCCCCCAACCTCCGAAAATCCCACCCTCTCCTAAAAACAATCAACAACTCC...TAA', SingleLetterAlphabet())}"
      ]
     },
     "execution_count": 35,
     "metadata": {},
     "output_type": "execute_result"
    }
   ],
   "source": [
    "cytb_seqs # Test the function \"get_sequences_from_file()\""
   ]
  },
  {
   "cell_type": "code",
   "execution_count": 36,
   "metadata": {},
   "outputs": [
    {
     "name": "stdout",
     "output_type": "stream",
     "text": [
      "[0.48381452318460194]\n",
      "[42459.602100000004]\n",
      "[0.48381452318460194, 0.4969378827646544]\n",
      "[42459.602100000004, 42563.70669999999]\n",
      "[0.48381452318460194, 0.4969378827646544, 0.5118110236220472]\n",
      "[42459.602100000004, 42563.70669999999, 42475.5753]\n",
      "[0.48381452318460194, 0.4969378827646544, 0.5118110236220472, 0.5091863517060368]\n",
      "[42459.602100000004, 42563.70669999999, 42475.5753, 42445.54929999999]\n",
      "[0.48381452318460194, 0.4969378827646544, 0.5118110236220472, 0.5091863517060368, 0.5083114610673666]\n",
      "[42459.602100000004, 42563.70669999999, 42475.5753, 42445.54929999999, 42475.5753]\n",
      "[0.48381452318460194, 0.4969378827646544, 0.5118110236220472, 0.5091863517060368, 0.5083114610673666, 0.4925634295713036]\n",
      "[42459.602100000004, 42563.70669999999, 42475.5753, 42445.54929999999, 42475.5753, 42491.64080000001]\n",
      "[0.48381452318460194, 0.4969378827646544, 0.5118110236220472, 0.5091863517060368, 0.5083114610673666, 0.4925634295713036, 0.49081364829396323]\n",
      "[42459.602100000004, 42563.70669999999, 42475.5753, 42445.54929999999, 42475.5753, 42491.64080000001, 42458.61400000001]\n",
      "[0.48381452318460194, 0.4969378827646544, 0.5118110236220472, 0.5091863517060368, 0.5083114610673666, 0.4925634295713036, 0.49081364829396323, 0.4776902887139108]\n",
      "[42459.602100000004, 42563.70669999999, 42475.5753, 42445.54929999999, 42475.5753, 42491.64080000001, 42458.61400000001, 42404.54230000001]\n",
      "[0.48381452318460194, 0.4969378827646544, 0.5118110236220472, 0.5091863517060368, 0.5083114610673666, 0.4925634295713036, 0.49081364829396323, 0.4776902887139108, 0.4715660542432196]\n",
      "[42459.602100000004, 42563.70669999999, 42475.5753, 42445.54929999999, 42475.5753, 42491.64080000001, 42458.61400000001, 42404.54230000001, 42595.87590000001]\n",
      "[0.48381452318460194, 0.4969378827646544, 0.5118110236220472, 0.5091863517060368, 0.5083114610673666, 0.4925634295713036, 0.49081364829396323, 0.4776902887139108, 0.4715660542432196, 0.48293963254593175]\n",
      "[42459.602100000004, 42563.70669999999, 42475.5753, 42445.54929999999, 42475.5753, 42491.64080000001, 42458.61400000001, 42404.54230000001, 42595.87590000001, 42431.54900000002]\n",
      "[0.48381452318460194, 0.4969378827646544, 0.5118110236220472, 0.5091863517060368, 0.5083114610673666, 0.4925634295713036, 0.49081364829396323, 0.4776902887139108, 0.4715660542432196, 0.48293963254593175, 0.4925634295713036]\n",
      "[42459.602100000004, 42563.70669999999, 42475.5753, 42445.54929999999, 42475.5753, 42491.64080000001, 42458.61400000001, 42404.54230000001, 42595.87590000001, 42431.54900000002, 42399.55200000001]\n",
      "[0.48381452318460194, 0.4969378827646544, 0.5118110236220472, 0.5091863517060368, 0.5083114610673666, 0.4925634295713036, 0.49081364829396323, 0.4776902887139108, 0.4715660542432196, 0.48293963254593175, 0.4925634295713036, 0.4820647419072616]\n",
      "[42459.602100000004, 42563.70669999999, 42475.5753, 42445.54929999999, 42475.5753, 42491.64080000001, 42458.61400000001, 42404.54230000001, 42595.87590000001, 42431.54900000002, 42399.55200000001, 42459.60210000002]\n"
     ]
    }
   ],
   "source": [
    "## Extract the DNA sequence for GC content and molecular weight calculation, http://biopython.org/DIST/docs/api/Bio.Seq.Seq-class.html\n",
    "Mol_Weight = [] #Set up the list \"Mol_Weight\"\n",
    "GC_cont = [] #Set up the list \"GC_cont\"\n",
    "for seq_body in cytb_seqs.values(): # Use for loop to grab the sequence of species from the dictionary \"cytb_seqs\"\n",
    "    AA_Seq = seq_body.translate(table=\"Vertebrate Mitochondrial\") # Translate DNA sequence into amino acid sequence\n",
    "    # Delete the \"*\" sign and then process the amino acid sequence with the mode \"compute_molecular_weight\". The result will then be appended to the empty list \"Mol_Weight\"\n",
    "    Mol_Weight.append(compute_molecular_weight(str(AA_Seq.rstrip(\"*\"))))\n",
    "    # Get the GC content from DNA sequence. Append the result to the empty list \"GC_cont\"\n",
    "    GC_cont.append(GC_content(seq_body))\n",
    "    print(GC_cont) # print out GC content to see whether it works\n",
    "    print (Mol_Weight)# print out Molecular Weight to see whether it works"
   ]
  },
  {
   "cell_type": "code",
   "execution_count": 37,
   "metadata": {},
   "outputs": [
    {
     "data": {
      "text/html": [
       "<div>\n",
       "<style>\n",
       "    .dataframe thead tr:only-child th {\n",
       "        text-align: right;\n",
       "    }\n",
       "\n",
       "    .dataframe thead th {\n",
       "        text-align: left;\n",
       "    }\n",
       "\n",
       "    .dataframe tbody tr th {\n",
       "        vertical-align: top;\n",
       "    }\n",
       "</style>\n",
       "<table border=\"1\" class=\"dataframe\">\n",
       "  <thead>\n",
       "    <tr style=\"text-align: right;\">\n",
       "      <th></th>\n",
       "      <th>species</th>\n",
       "      <th>mass</th>\n",
       "      <th>GC</th>\n",
       "      <th>MW</th>\n",
       "    </tr>\n",
       "  </thead>\n",
       "  <tbody>\n",
       "    <tr>\n",
       "      <th>0</th>\n",
       "      <td>Aptenodytes forsteri</td>\n",
       "      <td>28.00</td>\n",
       "      <td>0.483815</td>\n",
       "      <td>42459.6021</td>\n",
       "    </tr>\n",
       "    <tr>\n",
       "      <th>1</th>\n",
       "      <td>Aptenodytes patagonicus</td>\n",
       "      <td>13.40</td>\n",
       "      <td>0.496938</td>\n",
       "      <td>42563.7067</td>\n",
       "    </tr>\n",
       "    <tr>\n",
       "      <th>2</th>\n",
       "      <td>Eudyptes chrysocome</td>\n",
       "      <td>2.80</td>\n",
       "      <td>0.511811</td>\n",
       "      <td>42475.5753</td>\n",
       "    </tr>\n",
       "    <tr>\n",
       "      <th>3</th>\n",
       "      <td>Eudyptes chrysolophus</td>\n",
       "      <td>4.50</td>\n",
       "      <td>0.509186</td>\n",
       "      <td>42445.5493</td>\n",
       "    </tr>\n",
       "    <tr>\n",
       "      <th>4</th>\n",
       "      <td>Eudyptes sclateri</td>\n",
       "      <td>4.25</td>\n",
       "      <td>0.508311</td>\n",
       "      <td>42475.5753</td>\n",
       "    </tr>\n",
       "    <tr>\n",
       "      <th>5</th>\n",
       "      <td>Eudyptula minor</td>\n",
       "      <td>1.60</td>\n",
       "      <td>0.492563</td>\n",
       "      <td>42491.6408</td>\n",
       "    </tr>\n",
       "    <tr>\n",
       "      <th>6</th>\n",
       "      <td>Pygoscelis adeliae</td>\n",
       "      <td>4.60</td>\n",
       "      <td>0.490814</td>\n",
       "      <td>42458.6140</td>\n",
       "    </tr>\n",
       "    <tr>\n",
       "      <th>7</th>\n",
       "      <td>Pygoscelis antarctica</td>\n",
       "      <td>4.10</td>\n",
       "      <td>0.477690</td>\n",
       "      <td>42404.5423</td>\n",
       "    </tr>\n",
       "    <tr>\n",
       "      <th>8</th>\n",
       "      <td>Pygoscelis papua</td>\n",
       "      <td>6.10</td>\n",
       "      <td>0.471566</td>\n",
       "      <td>42595.8759</td>\n",
       "    </tr>\n",
       "    <tr>\n",
       "      <th>9</th>\n",
       "      <td>Spheniscus demersus</td>\n",
       "      <td>3.20</td>\n",
       "      <td>0.482940</td>\n",
       "      <td>42431.5490</td>\n",
       "    </tr>\n",
       "    <tr>\n",
       "      <th>10</th>\n",
       "      <td>Spheniscus humboldti</td>\n",
       "      <td>4.75</td>\n",
       "      <td>0.492563</td>\n",
       "      <td>42399.5520</td>\n",
       "    </tr>\n",
       "    <tr>\n",
       "      <th>11</th>\n",
       "      <td>Spheniscus magellanicus</td>\n",
       "      <td>3.40</td>\n",
       "      <td>0.482065</td>\n",
       "      <td>42459.6021</td>\n",
       "    </tr>\n",
       "  </tbody>\n",
       "</table>\n",
       "</div>"
      ],
      "text/plain": [
       "                    species   mass        GC          MW\n",
       "0      Aptenodytes forsteri  28.00  0.483815  42459.6021\n",
       "1   Aptenodytes patagonicus  13.40  0.496938  42563.7067\n",
       "2       Eudyptes chrysocome   2.80  0.511811  42475.5753\n",
       "3     Eudyptes chrysolophus   4.50  0.509186  42445.5493\n",
       "4         Eudyptes sclateri   4.25  0.508311  42475.5753\n",
       "5           Eudyptula minor   1.60  0.492563  42491.6408\n",
       "6        Pygoscelis adeliae   4.60  0.490814  42458.6140\n",
       "7     Pygoscelis antarctica   4.10  0.477690  42404.5423\n",
       "8          Pygoscelis papua   6.10  0.471566  42595.8759\n",
       "9       Spheniscus demersus   3.20  0.482940  42431.5490\n",
       "10     Spheniscus humboldti   4.75  0.492563  42399.5520\n",
       "11  Spheniscus magellanicus   3.40  0.482065  42459.6021"
      ]
     },
     "execution_count": 37,
     "metadata": {},
     "output_type": "execute_result"
    }
   ],
   "source": [
    "# Append the result of GC content and Molecular Weight to the two new column (GC and MW) to the table \"penguins_df\"\n",
    "penguins_df.assign(GC=GC_cont, MW=Mol_Weight)"
   ]
  },
  {
   "cell_type": "code",
   "execution_count": 38,
   "metadata": {
    "collapsed": true
   },
   "outputs": [],
   "source": [
    "# Write the new table to a new CSV file \"penguins_mass_cytb.csv\"\n",
    "penguins_df.assign(GC=GC_cont, MW=Mol_Weight).to_csv('C:\\\\Users\\\\ANG\\\\Desktop\\\\EEOB_546X\\\\BCB546X-Fall2017\\\\Python_Assignment\\\\penguins_mass_cytb.csv', sep=',')"
   ]
  },
  {
   "cell_type": "code",
   "execution_count": 39,
   "metadata": {},
   "outputs": [
    {
     "data": {
      "image/png": "[encoded data removed]",
      "text/plain": [
       "<matplotlib.figure.Figure at 0x1bf9a0c1668>"
      ]
     },
     "metadata": {},
     "output_type": "display_data"
    }
   ],
   "source": [
    "## Plotting of penguins mass to the species, https://python-graph-gallery.com/barplot/\n",
    "import numpy as np # import the package \"NumPy\" to process arrays and matrices\n",
    "import matplotlib.pyplot as plt # import the package \"matplotlib.pyplot\" for plotting\n",
    "\n",
    "mass = penguins_df[\"mass\"] # X axis as \"mass\"\n",
    "bars = penguins_df[\"species\"] # Y axis as \"species\"\n",
    "y_pos = np.arange(len(bars)) # The position of each bar on X axis \n",
    "\n",
    "plt.bar(y_pos, mass) # Create bars\n",
    "plt.xticks(y_pos, bars, rotation=90) # Rotation of the bars names\n",
    "plt.subplots_adjust(bottom=0.4, top=0.99) # Custom the format of layout\n",
    "\n",
    "plt.title('Penguins Mass') # Title of the plot\n",
    "plt.ylabel('mass (kg)') # label Y axis with \"mass (kg)\"\n",
    "\n",
    "plt.show() # Show graphic\n",
    "\n",
    "# What is the smallest penguin species? Eudyptula minor\n",
    "# What else is interesting about this species? The Oamaru Blue Penguin Colony is a good place to visit Eudyptula minor in New Zealand.\n"
   ]
  },
  {
   "cell_type": "code",
   "execution_count": 40,
   "metadata": {},
   "outputs": [
    {
     "data": {
      "image/png": "[encoded data removed]",
      "text/plain": [
       "<matplotlib.figure.Figure at 0x1bf9a0c1b70>"
      ]
     },
     "metadata": {},
     "output_type": "display_data"
    }
   ],
   "source": [
    "## Correlation plot of Molecular Weight and GC content, https://python-graph-gallery.com/scatter-plot/\n",
    "import seaborn as sns # Import the package \"seaborn\" for plotting\n",
    "\n",
    "# set up the new table names \"penguins_all\" from the file \"penguins_all.csv\"; discard the index_column\n",
    "penguins_all = pd.read_csv(\"penguins_all.csv\", index_col=0)\n",
    "\n",
    "#From \"penguins_all\", make the plot with MW against GC. Label the data with different color according to the species \n",
    "sns.lmplot(\"GC\", \"MW\", data=penguins_all, fit_reg=False, markers='o', hue='species')\n",
    "plt.show() # Show graphic"
   ]
  }
 ],
 "metadata": {
  "kernelspec": {
   "display_name": "Python 3",
   "language": "python",
   "name": "python3"
  },
  "language_info": {
   "codemirror_mode": {
    "name": "ipython",
    "version": 3
   },
   "file_extension": ".py",
   "mimetype": "text/x-python",
   "name": "python",
   "nbconvert_exporter": "python",
   "pygments_lexer": "ipython3",
   "version": "3.6.2"
  }
 },
 "nbformat": 4,
 "nbformat_minor": 2
}
